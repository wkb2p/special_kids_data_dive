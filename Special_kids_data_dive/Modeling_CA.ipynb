{
 "cells": [
  {
   "cell_type": "markdown",
   "metadata": {},
   "source": [
    "# Supervised Learning Walkthrough"
   ]
  },
  {
   "cell_type": "code",
   "execution_count": 8,
   "metadata": {},
   "outputs": [],
   "source": [
    "import numpy as np\n",
    "import pandas as pd\n",
    "import matplotlib.pyplot as plt\n",
    "import pandas_profiling\n",
    "import seaborn as sns\n",
    "%matplotlib inline\n",
    "\n",
    "sns.set_style('whitegrid')"
   ]
  },
  {
   "cell_type": "code",
   "execution_count": 9,
   "metadata": {},
   "outputs": [],
   "source": [
    "df_donor_comp = pd.read_csv('data/Donors_Comp.csv', index_col = 0, header = 0)"
   ]
  },
  {
   "cell_type": "code",
   "execution_count": 10,
   "metadata": {},
   "outputs": [
    {
     "name": "stdout",
     "output_type": "stream",
     "text": [
      "<class 'pandas.core.frame.DataFrame'>\n",
      "Int64Index: 13531 entries, 0 to 15388\n",
      "Data columns (total 70 columns):\n",
      "DonorID              13531 non-null int64\n",
      "Donation Amount_s    13531 non-null float64\n",
      "Donation Amount_c    13531 non-null float64\n",
      "female               13531 non-null int64\n",
      "male                 13531 non-null int64\n",
      "unknown              13531 non-null int64\n",
      "2009_Other           13531 non-null float64\n",
      "2010_Other           13531 non-null float64\n",
      "2011_Other           13531 non-null float64\n",
      "2012_Other           13531 non-null float64\n",
      "2012_SKRace          13531 non-null float64\n",
      "2013_Other           13531 non-null float64\n",
      "2013_SKRace          13531 non-null float64\n",
      "2014_Other           13531 non-null float64\n",
      "2014_SKRace          13531 non-null float64\n",
      "2015_Other           13531 non-null float64\n",
      "2015_SKRace          13531 non-null float64\n",
      "2016_Concert         13531 non-null float64\n",
      "2016_Other           13531 non-null float64\n",
      "2016_Request         13531 non-null float64\n",
      "2016_SKRace          13531 non-null float64\n",
      "2016_ThankYou        13531 non-null float64\n",
      "2016_Tour            13531 non-null float64\n",
      "2017_Banquet         13531 non-null float64\n",
      "2017_GolfOuting      13531 non-null float64\n",
      "2017_Other           13531 non-null float64\n",
      "2017_Request         13531 non-null float64\n",
      "2017_SKRace          13531 non-null float64\n",
      "2017_ThankYou        13531 non-null float64\n",
      "2017_Tour            13531 non-null float64\n",
      "2018_Banquet         13531 non-null float64\n",
      "2018_Other           13531 non-null float64\n",
      "2018_Request         13531 non-null float64\n",
      "2018_SKRace          13531 non-null float64\n",
      "2018_ThankYou        13531 non-null float64\n",
      "2018_Tour            13531 non-null float64\n",
      "2009_e               13531 non-null float64\n",
      "2010_e               13531 non-null float64\n",
      "2011_e               13531 non-null float64\n",
      "2012_e               13531 non-null float64\n",
      "2013_e               13531 non-null float64\n",
      "2014_e               13531 non-null float64\n",
      "2015_e               13531 non-null float64\n",
      "2016_e               13531 non-null float64\n",
      "2017_e               13531 non-null float64\n",
      "2018_e               13531 non-null float64\n",
      "2009_dcnt            13531 non-null float64\n",
      "2010_dcnt            13531 non-null float64\n",
      "2011_dcnt            13531 non-null float64\n",
      "2012_dcnt            13531 non-null float64\n",
      "2013_dcnt            13531 non-null float64\n",
      "2014_dcnt            13531 non-null float64\n",
      "2015_dcnt            13531 non-null float64\n",
      "2016_dcnt            13531 non-null float64\n",
      "2017_dcnt            13531 non-null float64\n",
      "2018_dcnt            13531 non-null float64\n",
      "2009_dsum            13531 non-null float64\n",
      "2010_dsum            13531 non-null float64\n",
      "2011_dsum            13531 non-null float64\n",
      "2012_dsum            13531 non-null float64\n",
      "2013_dsum            13531 non-null float64\n",
      "2014_dsum            13531 non-null float64\n",
      "2015_dsum            13531 non-null float64\n",
      "2016_dsum            13531 non-null float64\n",
      "2017_dsum            13531 non-null float64\n",
      "2018_dsum            13531 non-null float64\n",
      "donate_1             13531 non-null float64\n",
      "donate_2             13531 non-null float64\n",
      "donate_1_4           13531 non-null float64\n",
      "donate_2_4           13531 non-null float64\n",
      "dtypes: float64(66), int64(4)\n",
      "memory usage: 7.3 MB\n"
     ]
    }
   ],
   "source": [
    "df_donor_comp.info()"
   ]
  },
  {
   "cell_type": "code",
   "execution_count": 11,
   "metadata": {},
   "outputs": [],
   "source": [
    "donate_1_4 = df_donor_comp['donate_1_4']\n",
    "donate_2_4 = df_donor_comp['donate_2_4']"
   ]
  },
  {
   "cell_type": "markdown",
   "metadata": {},
   "source": [
    "## Datasets for Regression and Classification\n",
    "- The Regression DataFrame (**loan_reg**) will consist of all columns rows for which loan_is_bad is 0 (i.e loans that didn't default) with **loan_amnt** being the target. \n",
    "- The Classification DataFrame (**loan_class**) will consist of all columns with loan_is_bad being the target"
   ]
  },
  {
   "cell_type": "code",
   "execution_count": 12,
   "metadata": {},
   "outputs": [],
   "source": [
    "donor_amount_sum = df_donor_comp['Donation Amount_s']\n",
    "donor_amount_count = df_donor_comp['Donation Amount_c']"
   ]
  },
  {
   "cell_type": "markdown",
   "metadata": {},
   "source": [
    "### Regression Analysis"
   ]
  },
  {
   "cell_type": "markdown",
   "metadata": {},
   "source": [
    "### Scikit Simple Regression\n",
    "using annual_inc as predictor"
   ]
  },
  {
   "cell_type": "code",
   "execution_count": 13,
   "metadata": {},
   "outputs": [],
   "source": [
    "y = donor_amount_sum"
   ]
  },
  {
   "cell_type": "code",
   "execution_count": 64,
   "metadata": {},
   "outputs": [
    {
     "name": "stdout",
     "output_type": "stream",
     "text": [
      "<class 'pandas.core.frame.DataFrame'>\n",
      "Int64Index: 13531 entries, 0 to 15388\n",
      "Data columns (total 43 columns):\n",
      "female             13531 non-null int64\n",
      "male               13531 non-null int64\n",
      "unknown            13531 non-null int64\n",
      "2009_Other         13531 non-null float64\n",
      "2010_Other         13531 non-null float64\n",
      "2011_Other         13531 non-null float64\n",
      "2012_Other         13531 non-null float64\n",
      "2012_SKRace        13531 non-null float64\n",
      "2013_Other         13531 non-null float64\n",
      "2013_SKRace        13531 non-null float64\n",
      "2014_Other         13531 non-null float64\n",
      "2014_SKRace        13531 non-null float64\n",
      "2015_Other         13531 non-null float64\n",
      "2015_SKRace        13531 non-null float64\n",
      "2016_Concert       13531 non-null float64\n",
      "2016_Other         13531 non-null float64\n",
      "2016_Request       13531 non-null float64\n",
      "2016_SKRace        13531 non-null float64\n",
      "2016_ThankYou      13531 non-null float64\n",
      "2016_Tour          13531 non-null float64\n",
      "2017_Banquet       13531 non-null float64\n",
      "2017_GolfOuting    13531 non-null float64\n",
      "2017_Other         13531 non-null float64\n",
      "2017_Request       13531 non-null float64\n",
      "2017_SKRace        13531 non-null float64\n",
      "2017_ThankYou      13531 non-null float64\n",
      "2017_Tour          13531 non-null float64\n",
      "2018_Banquet       13531 non-null float64\n",
      "2018_Other         13531 non-null float64\n",
      "2018_Request       13531 non-null float64\n",
      "2018_SKRace        13531 non-null float64\n",
      "2018_ThankYou      13531 non-null float64\n",
      "2018_Tour          13531 non-null float64\n",
      "2009_e             13531 non-null float64\n",
      "2010_e             13531 non-null float64\n",
      "2011_e             13531 non-null float64\n",
      "2012_e             13531 non-null float64\n",
      "2013_e             13531 non-null float64\n",
      "2014_e             13531 non-null float64\n",
      "2015_e             13531 non-null float64\n",
      "2016_e             13531 non-null float64\n",
      "2017_e             13531 non-null float64\n",
      "2018_e             13531 non-null float64\n",
      "dtypes: float64(40), int64(3)\n",
      "memory usage: 4.5 MB\n"
     ]
    }
   ],
   "source": [
    "X = df_donor_comp.iloc[:,3:46]\n",
    "X.info()"
   ]
  },
  {
   "cell_type": "code",
   "execution_count": 65,
   "metadata": {},
   "outputs": [],
   "source": [
    "#pandas_profiling.ProfileReport(X)"
   ]
  },
  {
   "cell_type": "code",
   "execution_count": 66,
   "metadata": {},
   "outputs": [],
   "source": [
    "from sklearn.model_selection import train_test_split\n",
    "from sklearn.linear_model import Lasso\n",
    "from sklearn.preprocessing import StandardScaler"
   ]
  },
  {
   "cell_type": "code",
   "execution_count": 67,
   "metadata": {},
   "outputs": [
    {
     "data": {
      "text/plain": [
       "array([[44517.52],\n",
       "       [ 1360.  ],\n",
       "       [   50.  ],\n",
       "       ...,\n",
       "       [    0.  ],\n",
       "       [   50.  ],\n",
       "       [  133.21]])"
      ]
     },
     "execution_count": 67,
     "metadata": {},
     "output_type": "execute_result"
    }
   ],
   "source": [
    "y.values.reshape(-1,1)"
   ]
  },
  {
   "cell_type": "code",
   "execution_count": 68,
   "metadata": {},
   "outputs": [
    {
     "data": {
      "text/plain": [
       "array([[-1.03789128,  1.28635098, -0.34201184, ...,  4.79709566,\n",
       "         4.37739909,  4.78496949],\n",
       "       [-1.03789128, -0.77739281,  2.92387539, ..., -0.33544267,\n",
       "        -0.20178389, -0.21139754],\n",
       "       [ 0.96349206, -0.77739281, -0.34201184, ..., -0.33544267,\n",
       "        -0.20178389, -0.21139754],\n",
       "       ...,\n",
       "       [ 0.96349206, -0.77739281, -0.34201184, ..., -0.33544267,\n",
       "        -0.20178389, -0.21139754],\n",
       "       [-1.03789128,  1.28635098, -0.34201184, ..., -0.33544267,\n",
       "        -0.20178389, -0.21139754],\n",
       "       [ 0.96349206, -0.77739281, -0.34201184, ..., -0.33544267,\n",
       "        -0.20178389, -0.21139754]])"
      ]
     },
     "execution_count": 68,
     "metadata": {},
     "output_type": "execute_result"
    }
   ],
   "source": [
    "scaler = StandardScaler()\n",
    "X_reg_scaled = scaler.fit_transform(X)\n",
    "X_reg_scaled"
   ]
  },
  {
   "cell_type": "code",
   "execution_count": 69,
   "metadata": {},
   "outputs": [],
   "source": [
    "X_train, X_test, y_train, y_test = train_test_split(X, y, test_size = 0.3, random_state = 42)"
   ]
  },
  {
   "cell_type": "code",
   "execution_count": 99,
   "metadata": {},
   "outputs": [
    {
     "name": "stdout",
     "output_type": "stream",
     "text": [
      "iteration 0.01 done\n",
      "iteration 0.025 done\n",
      "iteration 0.1 done\n",
      "iteration 1 done\n",
      "iteration 5 done\n",
      "iteration 10 done\n",
      "iteration 25 done\n",
      "iteration 50 done\n",
      "iteration 100 done\n",
      "iteration 125 done\n",
      "iteration 150 done\n",
      "iteration 200 done\n"
     ]
    },
    {
     "data": {
      "image/png": "[encoded data removed]",
      "text/plain": [
       "<Figure size 432x288 with 1 Axes>"
      ]
     },
     "metadata": {},
     "output_type": "display_data"
    }
   ],
   "source": [
    "alphas = [0.01, 0.025, 0.1, 1, 5, 10, 25, 50, 100, 125, 150, 200]\n",
    "scores = []\n",
    "\n",
    "for a in alphas:\n",
    "    lasso = Lasso(alpha = a)\n",
    "    lasso.fit(X_train, y_train)\n",
    "    scores.append(lasso.score(X_test, y_test))\n",
    "    print(\"iteration {} done\".format(a))\n",
    "\n",
    "\n",
    "plt.plot(alphas, scores, '-o')\n",
    "plt.xlabel('alpha, a')\n",
    "plt.ylabel('scores')\n",
    "plt.xticks(alphas)\n",
    "plt.show()"
   ]
  },
  {
   "cell_type": "markdown",
   "metadata": {},
   "source": [
    "Alpha = 10 provides the best score (somewhat minimally)"
   ]
  },
  {
   "cell_type": "code",
   "execution_count": 113,
   "metadata": {},
   "outputs": [],
   "source": [
    "lasso = Lasso(alpha=150)"
   ]
  },
  {
   "cell_type": "code",
   "execution_count": 114,
   "metadata": {},
   "outputs": [
    {
     "data": {
      "text/plain": [
       "Lasso(alpha=150, copy_X=True, fit_intercept=True, max_iter=1000,\n",
       "   normalize=False, positive=False, precompute=False, random_state=None,\n",
       "   selection='cyclic', tol=0.0001, warm_start=False)"
      ]
     },
     "execution_count": 114,
     "metadata": {},
     "output_type": "execute_result"
    }
   ],
   "source": [
    "lasso.fit(X_train, y_train)"
   ]
  },
  {
   "cell_type": "code",
   "execution_count": 115,
   "metadata": {},
   "outputs": [],
   "source": [
    "lasso_pred = lasso.predict(X_train)"
   ]
  },
  {
   "cell_type": "code",
   "execution_count": 116,
   "metadata": {},
   "outputs": [
    {
     "data": {
      "text/plain": [
       "0.0846539084639869"
      ]
     },
     "execution_count": 116,
     "metadata": {},
     "output_type": "execute_result"
    }
   ],
   "source": [
    "lasso.score(X_test, y_test)"
   ]
  },
  {
   "cell_type": "code",
   "execution_count": 117,
   "metadata": {},
   "outputs": [
    {
     "data": {
      "text/plain": [
       "array([  -0.        ,    0.        ,    0.        ,    0.        ,\n",
       "          0.        ,    0.        ,   99.69144379,   -0.        ,\n",
       "        749.44076063,   -0.        , 1123.54222412,   -0.        ,\n",
       "        275.2251126 ,   -0.        ,    0.        ,    0.        ,\n",
       "          0.        ,   -0.        ,    0.        ,   -0.        ,\n",
       "         -0.        ,   -0.        ,    0.        ,    0.        ,\n",
       "         -0.        ,    0.        ,    0.        ,   -0.        ,\n",
       "          0.        ,   -0.        ,   -0.        ,    0.        ,\n",
       "          0.        ,    0.        ,    0.        ,    0.        ,\n",
       "          0.        ,    0.        ,    0.        ,    0.        ,\n",
       "        155.90363211,  650.25461101, 1191.43032251])"
      ]
     },
     "execution_count": 117,
     "metadata": {},
     "output_type": "execute_result"
    }
   ],
   "source": [
    "lasso.coef_"
   ]
  },
  {
   "cell_type": "code",
   "execution_count": 118,
   "metadata": {},
   "outputs": [],
   "source": [
    "df_lasso = pd.DataFrame(lasso.coef_)"
   ]
  },
  {
   "cell_type": "code",
   "execution_count": 119,
   "metadata": {},
   "outputs": [],
   "source": [
    "names = pd.DataFrame(list(X.columns))"
   ]
  },
  {
   "cell_type": "code",
   "execution_count": 120,
   "metadata": {},
   "outputs": [],
   "source": [
    "df_lasso = pd.concat([df_lasso, names], axis = 1)"
   ]
  },
  {
   "cell_type": "code",
   "execution_count": 121,
   "metadata": {},
   "outputs": [
    {
     "data": {
      "text/html": [
       "<div>\n",
       "<style scoped>\n",
       "    .dataframe tbody tr th:only-of-type {\n",
       "        vertical-align: middle;\n",
       "    }\n",
       "\n",
       "    .dataframe tbody tr th {\n",
       "        vertical-align: top;\n",
       "    }\n",
       "\n",
       "    .dataframe thead th {\n",
       "        text-align: right;\n",
       "    }\n",
       "</style>\n",
       "<table border=\"1\" class=\"dataframe\">\n",
       "  <thead>\n",
       "    <tr style=\"text-align: right;\">\n",
       "      <th></th>\n",
       "      <th>Coefficient</th>\n",
       "      <th>Feature</th>\n",
       "    </tr>\n",
       "  </thead>\n",
       "  <tbody>\n",
       "    <tr>\n",
       "      <th>0</th>\n",
       "      <td>-0.000000</td>\n",
       "      <td>female</td>\n",
       "    </tr>\n",
       "    <tr>\n",
       "      <th>1</th>\n",
       "      <td>0.000000</td>\n",
       "      <td>male</td>\n",
       "    </tr>\n",
       "    <tr>\n",
       "      <th>2</th>\n",
       "      <td>0.000000</td>\n",
       "      <td>unknown</td>\n",
       "    </tr>\n",
       "    <tr>\n",
       "      <th>3</th>\n",
       "      <td>0.000000</td>\n",
       "      <td>2009_Other</td>\n",
       "    </tr>\n",
       "    <tr>\n",
       "      <th>4</th>\n",
       "      <td>0.000000</td>\n",
       "      <td>2010_Other</td>\n",
       "    </tr>\n",
       "    <tr>\n",
       "      <th>5</th>\n",
       "      <td>0.000000</td>\n",
       "      <td>2011_Other</td>\n",
       "    </tr>\n",
       "    <tr>\n",
       "      <th>6</th>\n",
       "      <td>99.691444</td>\n",
       "      <td>2012_Other</td>\n",
       "    </tr>\n",
       "    <tr>\n",
       "      <th>7</th>\n",
       "      <td>-0.000000</td>\n",
       "      <td>2012_SKRace</td>\n",
       "    </tr>\n",
       "    <tr>\n",
       "      <th>8</th>\n",
       "      <td>749.440761</td>\n",
       "      <td>2013_Other</td>\n",
       "    </tr>\n",
       "    <tr>\n",
       "      <th>9</th>\n",
       "      <td>-0.000000</td>\n",
       "      <td>2013_SKRace</td>\n",
       "    </tr>\n",
       "    <tr>\n",
       "      <th>10</th>\n",
       "      <td>1123.542224</td>\n",
       "      <td>2014_Other</td>\n",
       "    </tr>\n",
       "    <tr>\n",
       "      <th>11</th>\n",
       "      <td>-0.000000</td>\n",
       "      <td>2014_SKRace</td>\n",
       "    </tr>\n",
       "    <tr>\n",
       "      <th>12</th>\n",
       "      <td>275.225113</td>\n",
       "      <td>2015_Other</td>\n",
       "    </tr>\n",
       "    <tr>\n",
       "      <th>13</th>\n",
       "      <td>-0.000000</td>\n",
       "      <td>2015_SKRace</td>\n",
       "    </tr>\n",
       "    <tr>\n",
       "      <th>14</th>\n",
       "      <td>0.000000</td>\n",
       "      <td>2016_Concert</td>\n",
       "    </tr>\n",
       "    <tr>\n",
       "      <th>15</th>\n",
       "      <td>0.000000</td>\n",
       "      <td>2016_Other</td>\n",
       "    </tr>\n",
       "    <tr>\n",
       "      <th>16</th>\n",
       "      <td>0.000000</td>\n",
       "      <td>2016_Request</td>\n",
       "    </tr>\n",
       "    <tr>\n",
       "      <th>17</th>\n",
       "      <td>-0.000000</td>\n",
       "      <td>2016_SKRace</td>\n",
       "    </tr>\n",
       "    <tr>\n",
       "      <th>18</th>\n",
       "      <td>0.000000</td>\n",
       "      <td>2016_ThankYou</td>\n",
       "    </tr>\n",
       "    <tr>\n",
       "      <th>19</th>\n",
       "      <td>-0.000000</td>\n",
       "      <td>2016_Tour</td>\n",
       "    </tr>\n",
       "    <tr>\n",
       "      <th>20</th>\n",
       "      <td>-0.000000</td>\n",
       "      <td>2017_Banquet</td>\n",
       "    </tr>\n",
       "    <tr>\n",
       "      <th>21</th>\n",
       "      <td>-0.000000</td>\n",
       "      <td>2017_GolfOuting</td>\n",
       "    </tr>\n",
       "    <tr>\n",
       "      <th>22</th>\n",
       "      <td>0.000000</td>\n",
       "      <td>2017_Other</td>\n",
       "    </tr>\n",
       "    <tr>\n",
       "      <th>23</th>\n",
       "      <td>0.000000</td>\n",
       "      <td>2017_Request</td>\n",
       "    </tr>\n",
       "    <tr>\n",
       "      <th>24</th>\n",
       "      <td>-0.000000</td>\n",
       "      <td>2017_SKRace</td>\n",
       "    </tr>\n",
       "    <tr>\n",
       "      <th>25</th>\n",
       "      <td>0.000000</td>\n",
       "      <td>2017_ThankYou</td>\n",
       "    </tr>\n",
       "    <tr>\n",
       "      <th>26</th>\n",
       "      <td>0.000000</td>\n",
       "      <td>2017_Tour</td>\n",
       "    </tr>\n",
       "    <tr>\n",
       "      <th>27</th>\n",
       "      <td>-0.000000</td>\n",
       "      <td>2018_Banquet</td>\n",
       "    </tr>\n",
       "    <tr>\n",
       "      <th>28</th>\n",
       "      <td>0.000000</td>\n",
       "      <td>2018_Other</td>\n",
       "    </tr>\n",
       "    <tr>\n",
       "      <th>29</th>\n",
       "      <td>-0.000000</td>\n",
       "      <td>2018_Request</td>\n",
       "    </tr>\n",
       "    <tr>\n",
       "      <th>30</th>\n",
       "      <td>-0.000000</td>\n",
       "      <td>2018_SKRace</td>\n",
       "    </tr>\n",
       "    <tr>\n",
       "      <th>31</th>\n",
       "      <td>0.000000</td>\n",
       "      <td>2018_ThankYou</td>\n",
       "    </tr>\n",
       "    <tr>\n",
       "      <th>32</th>\n",
       "      <td>0.000000</td>\n",
       "      <td>2018_Tour</td>\n",
       "    </tr>\n",
       "    <tr>\n",
       "      <th>33</th>\n",
       "      <td>0.000000</td>\n",
       "      <td>2009_e</td>\n",
       "    </tr>\n",
       "    <tr>\n",
       "      <th>34</th>\n",
       "      <td>0.000000</td>\n",
       "      <td>2010_e</td>\n",
       "    </tr>\n",
       "    <tr>\n",
       "      <th>35</th>\n",
       "      <td>0.000000</td>\n",
       "      <td>2011_e</td>\n",
       "    </tr>\n",
       "    <tr>\n",
       "      <th>36</th>\n",
       "      <td>0.000000</td>\n",
       "      <td>2012_e</td>\n",
       "    </tr>\n",
       "    <tr>\n",
       "      <th>37</th>\n",
       "      <td>0.000000</td>\n",
       "      <td>2013_e</td>\n",
       "    </tr>\n",
       "    <tr>\n",
       "      <th>38</th>\n",
       "      <td>0.000000</td>\n",
       "      <td>2014_e</td>\n",
       "    </tr>\n",
       "    <tr>\n",
       "      <th>39</th>\n",
       "      <td>0.000000</td>\n",
       "      <td>2015_e</td>\n",
       "    </tr>\n",
       "    <tr>\n",
       "      <th>40</th>\n",
       "      <td>155.903632</td>\n",
       "      <td>2016_e</td>\n",
       "    </tr>\n",
       "    <tr>\n",
       "      <th>41</th>\n",
       "      <td>650.254611</td>\n",
       "      <td>2017_e</td>\n",
       "    </tr>\n",
       "    <tr>\n",
       "      <th>42</th>\n",
       "      <td>1191.430323</td>\n",
       "      <td>2018_e</td>\n",
       "    </tr>\n",
       "  </tbody>\n",
       "</table>\n",
       "</div>"
      ],
      "text/plain": [
       "    Coefficient          Feature\n",
       "0     -0.000000           female\n",
       "1      0.000000             male\n",
       "2      0.000000          unknown\n",
       "3      0.000000       2009_Other\n",
       "4      0.000000       2010_Other\n",
       "5      0.000000       2011_Other\n",
       "6     99.691444       2012_Other\n",
       "7     -0.000000      2012_SKRace\n",
       "8    749.440761       2013_Other\n",
       "9     -0.000000      2013_SKRace\n",
       "10  1123.542224       2014_Other\n",
       "11    -0.000000      2014_SKRace\n",
       "12   275.225113       2015_Other\n",
       "13    -0.000000      2015_SKRace\n",
       "14     0.000000     2016_Concert\n",
       "15     0.000000       2016_Other\n",
       "16     0.000000     2016_Request\n",
       "17    -0.000000      2016_SKRace\n",
       "18     0.000000    2016_ThankYou\n",
       "19    -0.000000        2016_Tour\n",
       "20    -0.000000     2017_Banquet\n",
       "21    -0.000000  2017_GolfOuting\n",
       "22     0.000000       2017_Other\n",
       "23     0.000000     2017_Request\n",
       "24    -0.000000      2017_SKRace\n",
       "25     0.000000    2017_ThankYou\n",
       "26     0.000000        2017_Tour\n",
       "27    -0.000000     2018_Banquet\n",
       "28     0.000000       2018_Other\n",
       "29    -0.000000     2018_Request\n",
       "30    -0.000000      2018_SKRace\n",
       "31     0.000000    2018_ThankYou\n",
       "32     0.000000        2018_Tour\n",
       "33     0.000000           2009_e\n",
       "34     0.000000           2010_e\n",
       "35     0.000000           2011_e\n",
       "36     0.000000           2012_e\n",
       "37     0.000000           2013_e\n",
       "38     0.000000           2014_e\n",
       "39     0.000000           2015_e\n",
       "40   155.903632           2016_e\n",
       "41   650.254611           2017_e\n",
       "42  1191.430323           2018_e"
      ]
     },
     "execution_count": 121,
     "metadata": {},
     "output_type": "execute_result"
    }
   ],
   "source": [
    "df_lasso.columns = ['Coefficient', 'Feature']\n",
    "df_lasso"
   ]
  },
  {
   "cell_type": "markdown",
   "metadata": {},
   "source": [
    "### Ridge"
   ]
  },
  {
   "cell_type": "code",
   "execution_count": 122,
   "metadata": {},
   "outputs": [],
   "source": [
    "from sklearn.linear_model import Ridge"
   ]
  },
  {
   "cell_type": "code",
   "execution_count": 123,
   "metadata": {},
   "outputs": [
    {
     "name": "stdout",
     "output_type": "stream",
     "text": [
      "iteration 1 done\n",
      "iteration 5 done\n",
      "iteration 10 done\n",
      "iteration 25 done\n",
      "iteration 50 done\n",
      "iteration 100 done\n",
      "iteration 150 done\n",
      "iteration 200 done\n",
      "iteration 300 done\n",
      "iteration 400 done\n",
      "iteration 500 done\n"
     ]
    },
    {
     "data": {
      "image/png": "[encoded data removed]",
      "text/plain": [
       "<Figure size 432x288 with 1 Axes>"
      ]
     },
     "metadata": {},
     "output_type": "display_data"
    }
   ],
   "source": [
    "alphas = [1, 5, 10, 25, 50, 100, 150, 200, 300, 400, 500]\n",
    "scores = []\n",
    "\n",
    "for a in alphas:\n",
    "    ridge = Ridge(alpha = a)\n",
    "    ridge.fit(X_train, y_train)\n",
    "    scores.append(ridge.score(X_test, y_test))\n",
    "    print(\"iteration {} done\".format(a))\n",
    "\n",
    "\n",
    "plt.plot(alphas, scores, '-o')\n",
    "plt.xlabel('alpha, a')\n",
    "plt.ylabel('scores')\n",
    "plt.xticks(alphas)\n",
    "plt.show()"
   ]
  },
  {
   "cell_type": "code",
   "execution_count": 144,
   "metadata": {},
   "outputs": [],
   "source": [
    "ridge = Ridge(alpha=0.1)"
   ]
  },
  {
   "cell_type": "code",
   "execution_count": 145,
   "metadata": {},
   "outputs": [
    {
     "data": {
      "text/plain": [
       "Ridge(alpha=0.1, copy_X=True, fit_intercept=True, max_iter=None,\n",
       "   normalize=False, random_state=None, solver='auto', tol=0.001)"
      ]
     },
     "execution_count": 145,
     "metadata": {},
     "output_type": "execute_result"
    }
   ],
   "source": [
    "ridge.fit(X_train, y_train)"
   ]
  },
  {
   "cell_type": "code",
   "execution_count": 146,
   "metadata": {},
   "outputs": [],
   "source": [
    "ridge_preds = ridge.predict(X_test)"
   ]
  },
  {
   "cell_type": "code",
   "execution_count": 147,
   "metadata": {},
   "outputs": [
    {
     "data": {
      "text/plain": [
       "0.09960375464842487"
      ]
     },
     "execution_count": 147,
     "metadata": {},
     "output_type": "execute_result"
    }
   ],
   "source": [
    "ridge.score(X_test, y_test)"
   ]
  },
  {
   "cell_type": "code",
   "execution_count": 148,
   "metadata": {},
   "outputs": [
    {
     "data": {
      "text/html": [
       "<div>\n",
       "<style scoped>\n",
       "    .dataframe tbody tr th:only-of-type {\n",
       "        vertical-align: middle;\n",
       "    }\n",
       "\n",
       "    .dataframe tbody tr th {\n",
       "        vertical-align: top;\n",
       "    }\n",
       "\n",
       "    .dataframe thead th {\n",
       "        text-align: right;\n",
       "    }\n",
       "</style>\n",
       "<table border=\"1\" class=\"dataframe\">\n",
       "  <thead>\n",
       "    <tr style=\"text-align: right;\">\n",
       "      <th></th>\n",
       "      <th>Coefficient</th>\n",
       "      <th>Feature</th>\n",
       "    </tr>\n",
       "  </thead>\n",
       "  <tbody>\n",
       "    <tr>\n",
       "      <th>0</th>\n",
       "      <td>-98.371206</td>\n",
       "      <td>female</td>\n",
       "    </tr>\n",
       "    <tr>\n",
       "      <th>1</th>\n",
       "      <td>-96.147681</td>\n",
       "      <td>male</td>\n",
       "    </tr>\n",
       "    <tr>\n",
       "      <th>2</th>\n",
       "      <td>194.518887</td>\n",
       "      <td>unknown</td>\n",
       "    </tr>\n",
       "    <tr>\n",
       "      <th>3</th>\n",
       "      <td>729.142991</td>\n",
       "      <td>2009_Other</td>\n",
       "    </tr>\n",
       "    <tr>\n",
       "      <th>4</th>\n",
       "      <td>492.443540</td>\n",
       "      <td>2010_Other</td>\n",
       "    </tr>\n",
       "  </tbody>\n",
       "</table>\n",
       "</div>"
      ],
      "text/plain": [
       "   Coefficient     Feature\n",
       "0   -98.371206      female\n",
       "1   -96.147681        male\n",
       "2   194.518887     unknown\n",
       "3   729.142991  2009_Other\n",
       "4   492.443540  2010_Other"
      ]
     },
     "execution_count": 148,
     "metadata": {},
     "output_type": "execute_result"
    }
   ],
   "source": [
    "df_ridge = pd.DataFrame(ridge.coef_)\n",
    "\n",
    "names = pd.DataFrame(list(X.columns))\n",
    "\n",
    "df_ridge = pd.concat([df_ridge, names], axis = 1)\n",
    "\n",
    "df_ridge.columns = ['Coefficient', 'Feature']\n",
    "df_ridge.head()"
   ]
  },
  {
   "cell_type": "code",
   "execution_count": 149,
   "metadata": {},
   "outputs": [],
   "source": [
    "lasso_pred = pd.DataFrame(lasso_pred)\n",
    "ridge_pred = pd.DataFrame(ridge_preds)\n",
    "preds = pd.concat([lasso_pred, ridge_pred], axis = 1)"
   ]
  },
  {
   "cell_type": "code",
   "execution_count": 150,
   "metadata": {},
   "outputs": [],
   "source": [
    "preds.columns = ['Lasso', 'Ridge']"
   ]
  },
  {
   "cell_type": "code",
   "execution_count": 151,
   "metadata": {},
   "outputs": [
    {
     "data": {
      "text/plain": [
       "(0, 40000)"
      ]
     },
     "execution_count": 151,
     "metadata": {},
     "output_type": "execute_result"
    },
    {
     "data": {
      "image/png": "[encoded data removed]",
      "text/plain": [
       "<Figure size 432x288 with 1 Axes>"
      ]
     },
     "metadata": {},
     "output_type": "display_data"
    }
   ],
   "source": [
    "sns.regplot(x = 'Lasso', y = 'Ridge', data = preds)\n",
    "plt.ylim(0,40000)"
   ]
  },
  {
   "cell_type": "markdown",
   "metadata": {
    "collapsed": true
   },
   "source": [
    "# XXXXXXXXXXXXXXXXXXXXXXXXXXXXXXXXXXXXXXXXXXXXXXXXXXXXX\n",
    "### Classification"
   ]
  },
  {
   "cell_type": "code",
   "execution_count": 152,
   "metadata": {},
   "outputs": [],
   "source": [
    "y = df_donor_comp['donate_1_4']"
   ]
  },
  {
   "cell_type": "code",
   "execution_count": 153,
   "metadata": {},
   "outputs": [
    {
     "data": {
      "text/plain": [
       "array([[1.],\n",
       "       [0.],\n",
       "       [0.],\n",
       "       ...,\n",
       "       [0.],\n",
       "       [0.],\n",
       "       [0.]])"
      ]
     },
     "execution_count": 153,
     "metadata": {},
     "output_type": "execute_result"
    }
   ],
   "source": [
    "y.values.reshape(-1,1)"
   ]
  },
  {
   "cell_type": "markdown",
   "metadata": {},
   "source": [
    "### Logistic Regression\n",
    "using non-scaled data"
   ]
  },
  {
   "cell_type": "code",
   "execution_count": 154,
   "metadata": {},
   "outputs": [],
   "source": [
    "X_train, X_test, y_train, y_test = train_test_split(X, y, test_size = 0.3, random_state = 42)"
   ]
  },
  {
   "cell_type": "code",
   "execution_count": 155,
   "metadata": {},
   "outputs": [],
   "source": [
    "from sklearn.linear_model import LogisticRegression\n",
    "from sklearn.metrics import confusion_matrix, classification_report"
   ]
  },
  {
   "cell_type": "code",
   "execution_count": 156,
   "metadata": {},
   "outputs": [
    {
     "name": "stdout",
     "output_type": "stream",
     "text": [
      "0.9842364532019704\n",
      "\n",
      "[[3967   14]\n",
      " [  50   29]]\n",
      "\n",
      "              precision    recall  f1-score   support\n",
      "\n",
      "         0.0       0.99      1.00      0.99      3981\n",
      "         1.0       0.67      0.37      0.48        79\n",
      "\n",
      "   micro avg       0.98      0.98      0.98      4060\n",
      "   macro avg       0.83      0.68      0.73      4060\n",
      "weighted avg       0.98      0.98      0.98      4060\n",
      "\n"
     ]
    }
   ],
   "source": [
    "#without weights\n",
    "logr = LogisticRegression()\n",
    "logr.fit(X_train, y_train)\n",
    "score = logr.score(X_test, y_test)\n",
    "print(score)\n",
    "print(\"\")\n",
    "log_pred = logr.predict(X_test)\n",
    "print(confusion_matrix(y_test, log_pred))\n",
    "print(\"\")\n",
    "print(classification_report(y_test, log_pred))"
   ]
  },
  {
   "cell_type": "markdown",
   "metadata": {},
   "source": [
    "### Logistic Regression w/ Scaler"
   ]
  },
  {
   "cell_type": "code",
   "execution_count": 157,
   "metadata": {},
   "outputs": [],
   "source": [
    "X_scaled = scaler.fit_transform(X)"
   ]
  },
  {
   "cell_type": "code",
   "execution_count": 158,
   "metadata": {},
   "outputs": [],
   "source": [
    "X_trainSC, X_testSC, y_trainSC, y_testSC = train_test_split(X_scaled, y, test_size = 0.3, random_state = 42)"
   ]
  },
  {
   "cell_type": "code",
   "execution_count": 159,
   "metadata": {},
   "outputs": [
    {
     "data": {
      "text/plain": [
       "0.982512315270936"
      ]
     },
     "execution_count": 159,
     "metadata": {},
     "output_type": "execute_result"
    }
   ],
   "source": [
    "logrsc = LogisticRegression(class_weight = {0:1, 1:3})\n",
    "logrsc.fit(X_trainSC, y_train)\n",
    "score = logrsc.score(X_testSC, y_test)\n",
    "score"
   ]
  },
  {
   "cell_type": "code",
   "execution_count": 160,
   "metadata": {},
   "outputs": [],
   "source": [
    "scaled_pred = logrsc.predict(X_testSC)"
   ]
  },
  {
   "cell_type": "code",
   "execution_count": 161,
   "metadata": {
    "scrolled": true
   },
   "outputs": [
    {
     "name": "stdout",
     "output_type": "stream",
     "text": [
      "              precision    recall  f1-score   support\n",
      "\n",
      "         0.0       0.99      0.99      0.99      3981\n",
      "         1.0       0.54      0.62      0.58        79\n",
      "\n",
      "   micro avg       0.98      0.98      0.98      4060\n",
      "   macro avg       0.77      0.80      0.79      4060\n",
      "weighted avg       0.98      0.98      0.98      4060\n",
      "\n"
     ]
    }
   ],
   "source": [
    "print(classification_report(y_testSC, scaled_pred))"
   ]
  },
  {
   "cell_type": "code",
   "execution_count": 162,
   "metadata": {},
   "outputs": [
    {
     "name": "stdout",
     "output_type": "stream",
     "text": [
      "[[3940   41]\n",
      " [  30   49]]\n"
     ]
    }
   ],
   "source": [
    "print(confusion_matrix(y_testSC, scaled_pred))"
   ]
  },
  {
   "cell_type": "markdown",
   "metadata": {},
   "source": [
    "### Decision Tree"
   ]
  },
  {
   "cell_type": "code",
   "execution_count": 163,
   "metadata": {},
   "outputs": [],
   "source": [
    "from sklearn.feature_extraction.text import CountVectorizer\n",
    "from sklearn.tree import DecisionTreeClassifier"
   ]
  },
  {
   "cell_type": "code",
   "execution_count": 164,
   "metadata": {},
   "outputs": [],
   "source": [
    "#Just to ensure the right split\n",
    "X_train, X_test, y_train, y_test = train_test_split(X, y, test_size = 0.3, random_state = 42)"
   ]
  },
  {
   "cell_type": "code",
   "execution_count": 165,
   "metadata": {},
   "outputs": [],
   "source": [
    "classifier=DecisionTreeClassifier()\n",
    "classifier=classifier.fit(X_train,y_train)"
   ]
  },
  {
   "cell_type": "code",
   "execution_count": 166,
   "metadata": {},
   "outputs": [
    {
     "name": "stdout",
     "output_type": "stream",
     "text": [
      "[[3942   39]\n",
      " [  42   37]]\n",
      "              precision    recall  f1-score   support\n",
      "\n",
      "         0.0       0.99      0.99      0.99      3981\n",
      "         1.0       0.49      0.47      0.48        79\n",
      "\n",
      "   micro avg       0.98      0.98      0.98      4060\n",
      "   macro avg       0.74      0.73      0.73      4060\n",
      "weighted avg       0.98      0.98      0.98      4060\n",
      "\n"
     ]
    }
   ],
   "source": [
    "dt_preds = classifier.predict(X_test)\n",
    "print(confusion_matrix(y_test, dt_preds))\n",
    "print(classification_report(y_test, dt_preds))"
   ]
  },
  {
   "cell_type": "code",
   "execution_count": 167,
   "metadata": {},
   "outputs": [],
   "source": [
    "#Generating decision tree in a file(image)\n",
    "from sklearn import tree\n",
    "from io import StringIO\n",
    "from IPython.display import Image, display"
   ]
  },
  {
   "cell_type": "code",
   "execution_count": 168,
   "metadata": {},
   "outputs": [],
   "source": [
    "out = StringIO()\n",
    "tree.export_graphviz(classifier, out_file=out, filled=True,rounded=True)\n",
    "from sklearn.tree import export_graphviz\n",
    "import pydot "
   ]
  },
  {
   "cell_type": "code",
   "execution_count": 169,
   "metadata": {},
   "outputs": [],
   "source": [
    "from sklearn.tree import export_graphviz\n",
    "import pydot "
   ]
  },
  {
   "cell_type": "code",
   "execution_count": 170,
   "metadata": {},
   "outputs": [],
   "source": [
    "#Using Decision Tree Classifier\n",
    "clf2=DecisionTreeClassifier(max_depth=5, max_leaf_nodes=10)\n",
    "clf2=clf2.fit(X_train,y_train)"
   ]
  },
  {
   "cell_type": "code",
   "execution_count": 171,
   "metadata": {},
   "outputs": [
    {
     "name": "stdout",
     "output_type": "stream",
     "text": [
      "iteration 1 done\n",
      "iteration 2 done\n",
      "iteration 3 done\n",
      "iteration 4 done\n",
      "iteration 5 done\n",
      "iteration 6 done\n",
      "iteration 7 done\n",
      "iteration 8 done\n",
      "iteration 9 done\n",
      "iteration 10 done\n",
      "iteration 11 done\n"
     ]
    },
    {
     "data": {
      "image/png": "[encoded data removed]",
      "text/plain": [
       "<Figure size 432x288 with 1 Axes>"
      ]
     },
     "metadata": {},
     "output_type": "display_data"
    }
   ],
   "source": [
    "depth = range(1,12)\n",
    "scores = []\n",
    "\n",
    "for d in depth:\n",
    "    classifier=DecisionTreeClassifier(max_depth = d)\n",
    "    classifier=classifier.fit(X_train,y_train)\n",
    "    scores.append(classifier.score(X_test, y_test))\n",
    "    print(\"iteration {} done\".format(d))\n",
    "\n",
    "\n",
    "plt.plot(depth, scores, '-o')\n",
    "plt.xlabel('depth, d')\n",
    "plt.ylabel('scores')\n",
    "plt.xticks(depth)\n",
    "plt.show()"
   ]
  },
  {
   "cell_type": "code",
   "execution_count": 174,
   "metadata": {},
   "outputs": [
    {
     "data": {
      "text/plain": [
       "0.9834975369458128"
      ]
     },
     "execution_count": 174,
     "metadata": {},
     "output_type": "execute_result"
    }
   ],
   "source": [
    "classifier2=DecisionTreeClassifier(max_depth = 6)\n",
    "classifier2=classifier.fit(X_train,y_train)\n",
    "classifier2.score(X_test, y_test)"
   ]
  },
  {
   "cell_type": "code",
   "execution_count": 175,
   "metadata": {},
   "outputs": [
    {
     "name": "stdout",
     "output_type": "stream",
     "text": [
      "[[3957   24]\n",
      " [  43   36]]\n",
      "              precision    recall  f1-score   support\n",
      "\n",
      "         0.0       0.99      0.99      0.99      3981\n",
      "         1.0       0.60      0.46      0.52        79\n",
      "\n",
      "   micro avg       0.98      0.98      0.98      4060\n",
      "   macro avg       0.79      0.72      0.75      4060\n",
      "weighted avg       0.98      0.98      0.98      4060\n",
      "\n"
     ]
    }
   ],
   "source": [
    "dt_preds2 = classifier2.predict(X_test)\n",
    "print(confusion_matrix(y_test, dt_preds2))\n",
    "print(classification_report(y_test, dt_preds2))"
   ]
  },
  {
   "cell_type": "code",
   "execution_count": 176,
   "metadata": {},
   "outputs": [],
   "source": [
    "dt_fi = pd.DataFrame(classifier.feature_importances_)"
   ]
  },
  {
   "cell_type": "code",
   "execution_count": 177,
   "metadata": {},
   "outputs": [],
   "source": [
    "names = pd.DataFrame(list(X.columns))\n",
    "df_feat_imp = pd.concat([dt_fi, names], axis = 1)"
   ]
  },
  {
   "cell_type": "code",
   "execution_count": 178,
   "metadata": {},
   "outputs": [
    {
     "data": {
      "text/html": [
       "<div>\n",
       "<style scoped>\n",
       "    .dataframe tbody tr th:only-of-type {\n",
       "        vertical-align: middle;\n",
       "    }\n",
       "\n",
       "    .dataframe tbody tr th {\n",
       "        vertical-align: top;\n",
       "    }\n",
       "\n",
       "    .dataframe thead th {\n",
       "        text-align: right;\n",
       "    }\n",
       "</style>\n",
       "<table border=\"1\" class=\"dataframe\">\n",
       "  <thead>\n",
       "    <tr style=\"text-align: right;\">\n",
       "      <th></th>\n",
       "      <th>Importance</th>\n",
       "      <th>Features</th>\n",
       "    </tr>\n",
       "  </thead>\n",
       "  <tbody>\n",
       "    <tr>\n",
       "      <th>31</th>\n",
       "      <td>0.284382</td>\n",
       "      <td>2018_ThankYou</td>\n",
       "    </tr>\n",
       "    <tr>\n",
       "      <th>25</th>\n",
       "      <td>0.158496</td>\n",
       "      <td>2017_ThankYou</td>\n",
       "    </tr>\n",
       "    <tr>\n",
       "      <th>39</th>\n",
       "      <td>0.062816</td>\n",
       "      <td>2015_e</td>\n",
       "    </tr>\n",
       "    <tr>\n",
       "      <th>41</th>\n",
       "      <td>0.061302</td>\n",
       "      <td>2017_e</td>\n",
       "    </tr>\n",
       "    <tr>\n",
       "      <th>15</th>\n",
       "      <td>0.057546</td>\n",
       "      <td>2016_Other</td>\n",
       "    </tr>\n",
       "    <tr>\n",
       "      <th>12</th>\n",
       "      <td>0.046957</td>\n",
       "      <td>2015_Other</td>\n",
       "    </tr>\n",
       "    <tr>\n",
       "      <th>10</th>\n",
       "      <td>0.040543</td>\n",
       "      <td>2014_Other</td>\n",
       "    </tr>\n",
       "    <tr>\n",
       "      <th>36</th>\n",
       "      <td>0.026188</td>\n",
       "      <td>2012_e</td>\n",
       "    </tr>\n",
       "    <tr>\n",
       "      <th>2</th>\n",
       "      <td>0.022299</td>\n",
       "      <td>unknown</td>\n",
       "    </tr>\n",
       "    <tr>\n",
       "      <th>40</th>\n",
       "      <td>0.021960</td>\n",
       "      <td>2016_e</td>\n",
       "    </tr>\n",
       "    <tr>\n",
       "      <th>42</th>\n",
       "      <td>0.021647</td>\n",
       "      <td>2018_e</td>\n",
       "    </tr>\n",
       "    <tr>\n",
       "      <th>22</th>\n",
       "      <td>0.019580</td>\n",
       "      <td>2017_Other</td>\n",
       "    </tr>\n",
       "    <tr>\n",
       "      <th>38</th>\n",
       "      <td>0.019050</td>\n",
       "      <td>2014_e</td>\n",
       "    </tr>\n",
       "    <tr>\n",
       "      <th>18</th>\n",
       "      <td>0.015759</td>\n",
       "      <td>2016_ThankYou</td>\n",
       "    </tr>\n",
       "    <tr>\n",
       "      <th>35</th>\n",
       "      <td>0.014789</td>\n",
       "      <td>2011_e</td>\n",
       "    </tr>\n",
       "    <tr>\n",
       "      <th>33</th>\n",
       "      <td>0.013913</td>\n",
       "      <td>2009_e</td>\n",
       "    </tr>\n",
       "    <tr>\n",
       "      <th>37</th>\n",
       "      <td>0.012839</td>\n",
       "      <td>2013_e</td>\n",
       "    </tr>\n",
       "    <tr>\n",
       "      <th>14</th>\n",
       "      <td>0.012228</td>\n",
       "      <td>2016_Concert</td>\n",
       "    </tr>\n",
       "    <tr>\n",
       "      <th>1</th>\n",
       "      <td>0.011982</td>\n",
       "      <td>male</td>\n",
       "    </tr>\n",
       "    <tr>\n",
       "      <th>24</th>\n",
       "      <td>0.011938</td>\n",
       "      <td>2017_SKRace</td>\n",
       "    </tr>\n",
       "    <tr>\n",
       "      <th>29</th>\n",
       "      <td>0.010205</td>\n",
       "      <td>2018_Request</td>\n",
       "    </tr>\n",
       "    <tr>\n",
       "      <th>23</th>\n",
       "      <td>0.009704</td>\n",
       "      <td>2017_Request</td>\n",
       "    </tr>\n",
       "    <tr>\n",
       "      <th>8</th>\n",
       "      <td>0.007066</td>\n",
       "      <td>2013_Other</td>\n",
       "    </tr>\n",
       "    <tr>\n",
       "      <th>28</th>\n",
       "      <td>0.005994</td>\n",
       "      <td>2018_Other</td>\n",
       "    </tr>\n",
       "    <tr>\n",
       "      <th>0</th>\n",
       "      <td>0.005823</td>\n",
       "      <td>female</td>\n",
       "    </tr>\n",
       "    <tr>\n",
       "      <th>20</th>\n",
       "      <td>0.005142</td>\n",
       "      <td>2017_Banquet</td>\n",
       "    </tr>\n",
       "    <tr>\n",
       "      <th>34</th>\n",
       "      <td>0.004787</td>\n",
       "      <td>2010_e</td>\n",
       "    </tr>\n",
       "    <tr>\n",
       "      <th>17</th>\n",
       "      <td>0.003882</td>\n",
       "      <td>2016_SKRace</td>\n",
       "    </tr>\n",
       "    <tr>\n",
       "      <th>11</th>\n",
       "      <td>0.003811</td>\n",
       "      <td>2014_SKRace</td>\n",
       "    </tr>\n",
       "    <tr>\n",
       "      <th>21</th>\n",
       "      <td>0.002403</td>\n",
       "      <td>2017_GolfOuting</td>\n",
       "    </tr>\n",
       "    <tr>\n",
       "      <th>6</th>\n",
       "      <td>0.001523</td>\n",
       "      <td>2012_Other</td>\n",
       "    </tr>\n",
       "    <tr>\n",
       "      <th>9</th>\n",
       "      <td>0.001307</td>\n",
       "      <td>2013_SKRace</td>\n",
       "    </tr>\n",
       "    <tr>\n",
       "      <th>30</th>\n",
       "      <td>0.000910</td>\n",
       "      <td>2018_SKRace</td>\n",
       "    </tr>\n",
       "    <tr>\n",
       "      <th>26</th>\n",
       "      <td>0.000647</td>\n",
       "      <td>2017_Tour</td>\n",
       "    </tr>\n",
       "    <tr>\n",
       "      <th>4</th>\n",
       "      <td>0.000582</td>\n",
       "      <td>2010_Other</td>\n",
       "    </tr>\n",
       "    <tr>\n",
       "      <th>27</th>\n",
       "      <td>0.000000</td>\n",
       "      <td>2018_Banquet</td>\n",
       "    </tr>\n",
       "    <tr>\n",
       "      <th>19</th>\n",
       "      <td>0.000000</td>\n",
       "      <td>2016_Tour</td>\n",
       "    </tr>\n",
       "    <tr>\n",
       "      <th>16</th>\n",
       "      <td>0.000000</td>\n",
       "      <td>2016_Request</td>\n",
       "    </tr>\n",
       "    <tr>\n",
       "      <th>32</th>\n",
       "      <td>0.000000</td>\n",
       "      <td>2018_Tour</td>\n",
       "    </tr>\n",
       "    <tr>\n",
       "      <th>13</th>\n",
       "      <td>0.000000</td>\n",
       "      <td>2015_SKRace</td>\n",
       "    </tr>\n",
       "    <tr>\n",
       "      <th>7</th>\n",
       "      <td>0.000000</td>\n",
       "      <td>2012_SKRace</td>\n",
       "    </tr>\n",
       "    <tr>\n",
       "      <th>5</th>\n",
       "      <td>0.000000</td>\n",
       "      <td>2011_Other</td>\n",
       "    </tr>\n",
       "    <tr>\n",
       "      <th>3</th>\n",
       "      <td>0.000000</td>\n",
       "      <td>2009_Other</td>\n",
       "    </tr>\n",
       "  </tbody>\n",
       "</table>\n",
       "</div>"
      ],
      "text/plain": [
       "    Importance         Features\n",
       "31    0.284382    2018_ThankYou\n",
       "25    0.158496    2017_ThankYou\n",
       "39    0.062816           2015_e\n",
       "41    0.061302           2017_e\n",
       "15    0.057546       2016_Other\n",
       "12    0.046957       2015_Other\n",
       "10    0.040543       2014_Other\n",
       "36    0.026188           2012_e\n",
       "2     0.022299          unknown\n",
       "40    0.021960           2016_e\n",
       "42    0.021647           2018_e\n",
       "22    0.019580       2017_Other\n",
       "38    0.019050           2014_e\n",
       "18    0.015759    2016_ThankYou\n",
       "35    0.014789           2011_e\n",
       "33    0.013913           2009_e\n",
       "37    0.012839           2013_e\n",
       "14    0.012228     2016_Concert\n",
       "1     0.011982             male\n",
       "24    0.011938      2017_SKRace\n",
       "29    0.010205     2018_Request\n",
       "23    0.009704     2017_Request\n",
       "8     0.007066       2013_Other\n",
       "28    0.005994       2018_Other\n",
       "0     0.005823           female\n",
       "20    0.005142     2017_Banquet\n",
       "34    0.004787           2010_e\n",
       "17    0.003882      2016_SKRace\n",
       "11    0.003811      2014_SKRace\n",
       "21    0.002403  2017_GolfOuting\n",
       "6     0.001523       2012_Other\n",
       "9     0.001307      2013_SKRace\n",
       "30    0.000910      2018_SKRace\n",
       "26    0.000647        2017_Tour\n",
       "4     0.000582       2010_Other\n",
       "27    0.000000     2018_Banquet\n",
       "19    0.000000        2016_Tour\n",
       "16    0.000000     2016_Request\n",
       "32    0.000000        2018_Tour\n",
       "13    0.000000      2015_SKRace\n",
       "7     0.000000      2012_SKRace\n",
       "5     0.000000       2011_Other\n",
       "3     0.000000       2009_Other"
      ]
     },
     "execution_count": 178,
     "metadata": {},
     "output_type": "execute_result"
    }
   ],
   "source": [
    "df_feat_imp.columns = ['Importance', 'Features']\n",
    "df_feat_imp.sort_values('Importance', ascending = False)"
   ]
  },
  {
   "cell_type": "markdown",
   "metadata": {},
   "source": [
    "### Random Forest"
   ]
  },
  {
   "cell_type": "code",
   "execution_count": 179,
   "metadata": {},
   "outputs": [],
   "source": [
    "from sklearn.ensemble import RandomForestClassifier"
   ]
  },
  {
   "cell_type": "code",
   "execution_count": 180,
   "metadata": {},
   "outputs": [
    {
     "name": "stdout",
     "output_type": "stream",
     "text": [
      "0.9859605911330049\n",
      "              precision    recall  f1-score   support\n",
      "\n",
      "         0.0       0.99      1.00      0.99      3981\n",
      "         1.0       0.75      0.42      0.54        79\n",
      "\n",
      "   micro avg       0.99      0.99      0.99      4060\n",
      "   macro avg       0.87      0.71      0.76      4060\n",
      "weighted avg       0.98      0.99      0.98      4060\n",
      "\n"
     ]
    }
   ],
   "source": [
    "rf = RandomForestClassifier(n_estimators = 90, max_depth = 10)\n",
    "rf = rf.fit(X_train, y_train)\n",
    "score = rf.score(X_test, y_test)\n",
    "print(score)\n",
    "rf_pred = rf.predict(X_test)\n",
    "print(classification_report(y_test, rf_pred))"
   ]
  },
  {
   "cell_type": "code",
   "execution_count": 181,
   "metadata": {},
   "outputs": [
    {
     "name": "stdout",
     "output_type": "stream",
     "text": [
      "[[3970   11]\n",
      " [  46   33]]\n"
     ]
    }
   ],
   "source": [
    "print(confusion_matrix(y_test, rf_pred))"
   ]
  },
  {
   "cell_type": "code",
   "execution_count": 182,
   "metadata": {},
   "outputs": [],
   "source": [
    "fi = pd.DataFrame(rf.feature_importances_)"
   ]
  },
  {
   "cell_type": "code",
   "execution_count": 183,
   "metadata": {},
   "outputs": [],
   "source": [
    "columns = pd.DataFrame(list(X.columns))"
   ]
  },
  {
   "cell_type": "code",
   "execution_count": 184,
   "metadata": {},
   "outputs": [],
   "source": [
    "features = pd.concat([columns, fi], axis = 1)\n",
    "features.columns = ['Feature', 'Importance']"
   ]
  },
  {
   "cell_type": "code",
   "execution_count": 185,
   "metadata": {},
   "outputs": [
    {
     "data": {
      "text/html": [
       "<div>\n",
       "<style scoped>\n",
       "    .dataframe tbody tr th:only-of-type {\n",
       "        vertical-align: middle;\n",
       "    }\n",
       "\n",
       "    .dataframe tbody tr th {\n",
       "        vertical-align: top;\n",
       "    }\n",
       "\n",
       "    .dataframe thead th {\n",
       "        text-align: right;\n",
       "    }\n",
       "</style>\n",
       "<table border=\"1\" class=\"dataframe\">\n",
       "  <thead>\n",
       "    <tr style=\"text-align: right;\">\n",
       "      <th></th>\n",
       "      <th>Feature</th>\n",
       "      <th>Importance</th>\n",
       "    </tr>\n",
       "  </thead>\n",
       "  <tbody>\n",
       "    <tr>\n",
       "      <th>31</th>\n",
       "      <td>2018_ThankYou</td>\n",
       "      <td>0.128096</td>\n",
       "    </tr>\n",
       "    <tr>\n",
       "      <th>41</th>\n",
       "      <td>2017_e</td>\n",
       "      <td>0.121682</td>\n",
       "    </tr>\n",
       "    <tr>\n",
       "      <th>25</th>\n",
       "      <td>2017_ThankYou</td>\n",
       "      <td>0.088250</td>\n",
       "    </tr>\n",
       "    <tr>\n",
       "      <th>42</th>\n",
       "      <td>2018_e</td>\n",
       "      <td>0.065614</td>\n",
       "    </tr>\n",
       "    <tr>\n",
       "      <th>22</th>\n",
       "      <td>2017_Other</td>\n",
       "      <td>0.063359</td>\n",
       "    </tr>\n",
       "    <tr>\n",
       "      <th>40</th>\n",
       "      <td>2016_e</td>\n",
       "      <td>0.063202</td>\n",
       "    </tr>\n",
       "    <tr>\n",
       "      <th>12</th>\n",
       "      <td>2015_Other</td>\n",
       "      <td>0.055498</td>\n",
       "    </tr>\n",
       "    <tr>\n",
       "      <th>15</th>\n",
       "      <td>2016_Other</td>\n",
       "      <td>0.049041</td>\n",
       "    </tr>\n",
       "    <tr>\n",
       "      <th>39</th>\n",
       "      <td>2015_e</td>\n",
       "      <td>0.041313</td>\n",
       "    </tr>\n",
       "    <tr>\n",
       "      <th>38</th>\n",
       "      <td>2014_e</td>\n",
       "      <td>0.027708</td>\n",
       "    </tr>\n",
       "  </tbody>\n",
       "</table>\n",
       "</div>"
      ],
      "text/plain": [
       "          Feature  Importance\n",
       "31  2018_ThankYou    0.128096\n",
       "41         2017_e    0.121682\n",
       "25  2017_ThankYou    0.088250\n",
       "42         2018_e    0.065614\n",
       "22     2017_Other    0.063359\n",
       "40         2016_e    0.063202\n",
       "12     2015_Other    0.055498\n",
       "15     2016_Other    0.049041\n",
       "39         2015_e    0.041313\n",
       "38         2014_e    0.027708"
      ]
     },
     "execution_count": 185,
     "metadata": {},
     "output_type": "execute_result"
    }
   ],
   "source": [
    "features.sort_values(\"Importance\", ascending = False).head(10)"
   ]
  },
  {
   "cell_type": "code",
   "execution_count": 186,
   "metadata": {},
   "outputs": [],
   "source": [
    "from sklearn.model_selection import GridSearchCV\n",
    "from sklearn.pipeline import Pipeline"
   ]
  },
  {
   "cell_type": "code",
   "execution_count": 187,
   "metadata": {},
   "outputs": [],
   "source": [
    "# Create a pipeline\n",
    "pipe = Pipeline([('classifier', RandomForestClassifier())])\n",
    "\n",
    "# Create space of candidate learning algorithms and their hyperparameters\n",
    "search_space = [{'classifier': [LogisticRegression()],\n",
    "                 'classifier__penalty': ['l1', 'l2'],\n",
    "                 'classifier__C': np.logspace(0, 4, 10)},\n",
    "                {'classifier': [RandomForestClassifier()],\n",
    "                 'classifier__n_estimators': [10, 100, 1000],\n",
    "                 'classifier__max_features': [1, 2, 3]}]"
   ]
  },
  {
   "cell_type": "code",
   "execution_count": 188,
   "metadata": {},
   "outputs": [],
   "source": [
    "# Create grid search \n",
    "clf_best = GridSearchCV(pipe, search_space, cv=5, verbose=0)"
   ]
  },
  {
   "cell_type": "code",
   "execution_count": 189,
   "metadata": {},
   "outputs": [],
   "source": [
    "# Fit grid search\n",
    "best_model = clf_best.fit(X_train, y_train)"
   ]
  },
  {
   "cell_type": "code",
   "execution_count": 190,
   "metadata": {},
   "outputs": [
    {
     "data": {
      "text/plain": [
       "LogisticRegression(C=1.0, class_weight=None, dual=False, fit_intercept=True,\n",
       "          intercept_scaling=1, max_iter=100, multi_class='warn',\n",
       "          n_jobs=None, penalty='l2', random_state=None, solver='warn',\n",
       "          tol=0.0001, verbose=0, warm_start=False)"
      ]
     },
     "execution_count": 190,
     "metadata": {},
     "output_type": "execute_result"
    }
   ],
   "source": [
    "# View best model\n",
    "best_model.best_estimator_.get_params()['classifier']"
   ]
  },
  {
   "cell_type": "code",
   "execution_count": 191,
   "metadata": {},
   "outputs": [
    {
     "data": {
      "text/plain": [
       "array([0., 0., 0., ..., 0., 0., 0.])"
      ]
     },
     "execution_count": 191,
     "metadata": {},
     "output_type": "execute_result"
    }
   ],
   "source": [
    "best_model.predict(X_test)"
   ]
  },
  {
   "cell_type": "code",
   "execution_count": 192,
   "metadata": {},
   "outputs": [
    {
     "name": "stdout",
     "output_type": "stream",
     "text": [
      "Accuracy Score\n",
      "0.9842364532019704\n",
      "\n",
      "Confusion Matrix\n",
      "[[3967   14]\n",
      " [  50   29]]\n",
      "\n",
      "Classif Matrix\n",
      "              precision    recall  f1-score   support\n",
      "\n",
      "         0.0       0.99      1.00      0.99      3981\n",
      "         1.0       0.67      0.37      0.48        79\n",
      "\n",
      "   micro avg       0.98      0.98      0.98      4060\n",
      "   macro avg       0.83      0.68      0.73      4060\n",
      "weighted avg       0.98      0.98      0.98      4060\n",
      "\n"
     ]
    }
   ],
   "source": [
    "score = best_model.score(X_test, y_test)\n",
    "print(\"Accuracy Score\")\n",
    "print(score)\n",
    "best_model_pred = best_model.predict(X_test)\n",
    "print(\"\")\n",
    "print(\"Confusion Matrix\")\n",
    "print(confusion_matrix(y_test, best_model_pred))\n",
    "print(\"\")\n",
    "print(\"Classif Matrix\")\n",
    "print(classification_report(y_test, best_model_pred))"
   ]
  },
  {
   "cell_type": "code",
   "execution_count": null,
   "metadata": {},
   "outputs": [],
   "source": []
  }
 ],
 "metadata": {
  "kernelspec": {
   "display_name": "Python 3",
   "language": "python",
   "name": "python3"
  },
  "language_info": {
   "codemirror_mode": {
    "name": "ipython",
    "version": 3
   },
   "file_extension": ".py",
   "mimetype": "text/x-python",
   "name": "python",
   "nbconvert_exporter": "python",
   "pygments_lexer": "ipython3",
   "version": "3.7.3"
  }
 },
 "nbformat": 4,
 "nbformat_minor": 2
}
